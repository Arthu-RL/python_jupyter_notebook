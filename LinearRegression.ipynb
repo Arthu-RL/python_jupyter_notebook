{
 "cells": [
  {
   "cell_type": "code",
   "execution_count": 12,
   "id": "0e4a9f3b",
   "metadata": {},
   "outputs": [],
   "source": [
    "from sklearn import datasets\n",
    "from sklearn import linear_model\n",
    "from sklearn.model_selection import train_test_split as tts\n",
    "from sklearn.preprocessing import scale\n",
    "import matplotlib.pyplot as plt"
   ]
  },
  {
   "cell_type": "code",
   "execution_count": 2,
   "id": "9bcfe3cb",
   "metadata": {},
   "outputs": [],
   "source": [
    "wine = datasets.load_wine()"
   ]
  },
  {
   "cell_type": "code",
   "execution_count": 3,
   "id": "9db3754d",
   "metadata": {},
   "outputs": [],
   "source": [
    "x = wine.data\n",
    "y = wine.target"
   ]
  },
  {
   "cell_type": "code",
   "execution_count": 22,
   "id": "6d09c285",
   "metadata": {},
   "outputs": [
    {
     "name": "stdout",
     "output_type": "stream",
     "text": [
      "[[ 1.51861254 -0.5622498   0.23205254 ...  0.36217728  1.84791957\n",
      "   1.01300893]\n",
      " [ 0.24628963 -0.49941338 -0.82799632 ...  0.40605066  1.1134493\n",
      "   0.96524152]\n",
      " [ 0.19687903  0.02123125  1.10933436 ...  0.31830389  0.78858745\n",
      "   1.39514818]\n",
      " ...\n",
      " [ 0.33275817  1.74474449 -0.38935541 ... -1.61212515 -1.48544548\n",
      "   0.28057537]\n",
      " [ 0.20923168  0.22769377  0.01273209 ... -1.56825176 -1.40069891\n",
      "   0.29649784]\n",
      " [ 1.39508604  1.58316512  1.36520822 ... -1.52437837 -1.42894777\n",
      "  -0.59516041]]\n",
      "(178, 13)\n",
      "\n",
      "(178,)\n",
      "[0 0 0 0 0 0 0 0 0 0 0 0 0 0 0 0 0 0 0 0 0 0 0 0 0 0 0 0 0 0 0 0 0 0 0 0 0\n",
      " 0 0 0 0 0 0 0 0 0 0 0 0 0 0 0 0 0 0 0 0 0 0 1 1 1 1 1 1 1 1 1 1 1 1 1 1 1\n",
      " 1 1 1 1 1 1 1 1 1 1 1 1 1 1 1 1 1 1 1 1 1 1 1 1 1 1 1 1 1 1 1 1 1 1 1 1 1\n",
      " 1 1 1 1 1 1 1 1 1 1 1 1 1 1 1 1 1 1 1 2 2 2 2 2 2 2 2 2 2 2 2 2 2 2 2 2 2\n",
      " 2 2 2 2 2 2 2 2 2 2 2 2 2 2 2 2 2 2 2 2 2 2 2 2 2 2 2 2 2 2]\n"
     ]
    }
   ],
   "source": [
    "X = scale(x)\n",
    "print(X)\n",
    "print(X.shape)\n",
    "print()\n",
    "print(y.shape)\n",
    "print(y)"
   ]
  },
  {
   "cell_type": "code",
   "execution_count": 23,
   "id": "66a38ebf",
   "metadata": {},
   "outputs": [
    {
     "name": "stdout",
     "output_type": "stream",
     "text": [
      "LinearRegression()\n"
     ]
    }
   ],
   "source": [
    "# Creating a linear regression model.\n",
    "lin_reg = linear_model.LinearRegression()\n",
    "\n",
    "print(lin_reg)"
   ]
  },
  {
   "cell_type": "code",
   "execution_count": 24,
   "id": "c17da5c5",
   "metadata": {
    "scrolled": false
   },
   "outputs": [
    {
     "data": {
      "image/png": "[encoded data removed]",
      "text/plain": [
       "<Figure size 500x300 with 1 Axes>"
      ]
     },
     "metadata": {},
     "output_type": "display_data"
    }
   ],
   "source": [
    "fig, ax = plt.subplots(figsize=(5, 3))\n",
    "plt.scatter(X.T[0], y, color='g')\n",
    "plt.title('Wine Classification', fontsize=11)\n",
    "plt.xlabel('x')\n",
    "plt.ylabel('y')\n",
    "plt.show()"
   ]
  },
  {
   "cell_type": "code",
   "execution_count": 28,
   "id": "e115e434",
   "metadata": {},
   "outputs": [],
   "source": [
    "# Creating variables for train and test.\n",
    "X_train, X_test, y_train, y_test = tts(X, y, test_size=0.2)"
   ]
  },
  {
   "cell_type": "code",
   "execution_count": 29,
   "id": "3c67fca8",
   "metadata": {},
   "outputs": [],
   "source": [
    "# Creating and training the model with linear regression.\n",
    "model = lin_reg.fit(X_train, y_train)"
   ]
  },
  {
   "cell_type": "code",
   "execution_count": 34,
   "id": "d4a4cfdf",
   "metadata": {},
   "outputs": [
    {
     "name": "stdout",
     "output_type": "stream",
     "text": [
      "y_test:  [1 0 2 2 2 1 2 1 2 2 1 2 2 1 0 0 0 1 0 1 2 1 2 0 1 0 1 1 0 0 2 1 2 1 0 2]\n",
      "\n",
      "Predictions:  [ 0.75753825  0.07895198  1.76405366  2.24426456  2.07013511  0.53436868\n",
      "  1.99507921  1.11943018  1.58250609  1.62898864  1.10454709  1.56697704\n",
      "  2.02284672  1.35520839 -0.4219524   0.11836186  0.19458111  1.09522847\n",
      "  0.03130642  1.11036665  2.26531613  0.95611795  1.58142993  0.03484868\n",
      "  0.80303216  0.48205557  0.63381758  0.9545466  -0.30262907  0.1662393\n",
      "  2.02359173  1.33174     1.96678138  1.18407984  0.61086504  1.52894662]\n"
     ]
    }
   ],
   "source": [
    "prediction = model.predict(X_test)\n",
    "\n",
    "print(\"y_test: \", y_test)\n",
    "print()\n",
    "print(\"Predictions: \", prediction)"
   ]
  },
  {
   "cell_type": "code",
   "execution_count": 35,
   "id": "935ce94f",
   "metadata": {},
   "outputs": [
    {
     "name": "stdout",
     "output_type": "stream",
     "text": [
      "R^2 value:  0.8981359413148914\n"
     ]
    }
   ],
   "source": [
    "print(\"R^2 value: \", lin_reg.score(X, y))"
   ]
  },
  {
   "cell_type": "code",
   "execution_count": 36,
   "id": "6846710d",
   "metadata": {},
   "outputs": [
    {
     "name": "stdout",
     "output_type": "stream",
     "text": [
      "Coefficient factor:  [-0.10208384  0.00749976 -0.02314681  0.12539349  0.00350487  0.11009754\n",
      " -0.37892659 -0.04129854  0.02576959  0.17815334 -0.04965338 -0.19094607\n",
      " -0.24416395]\n"
     ]
    }
   ],
   "source": [
    "print(\"Coefficient factor: \", lin_reg.coef_)"
   ]
  },
  {
   "cell_type": "code",
   "execution_count": 37,
   "id": "54c4cd15",
   "metadata": {},
   "outputs": [
    {
     "name": "stdout",
     "output_type": "stream",
     "text": [
      "Intercept:  0.9335593661816161\n"
     ]
    }
   ],
   "source": [
    "print(\"Intercept: \", lin_reg.intercept_)"
   ]
  }
 ],
 "metadata": {
  "kernelspec": {
   "display_name": "Python 3 (ipykernel)",
   "language": "python",
   "name": "python3"
  },
  "language_info": {
   "codemirror_mode": {
    "name": "ipython",
    "version": 3
   },
   "file_extension": ".py",
   "mimetype": "text/x-python",
   "name": "python",
   "nbconvert_exporter": "python",
   "pygments_lexer": "ipython3",
   "version": "3.9.13"
  }
 },
 "nbformat": 4,
 "nbformat_minor": 5
}

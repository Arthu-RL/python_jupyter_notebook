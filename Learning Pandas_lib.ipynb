{
 "cells": [
  {
   "cell_type": "code",
   "execution_count": 2,
   "id": "6c396f67",
   "metadata": {},
   "outputs": [],
   "source": [
    "import numpy as np\n",
    "import pandas as pd\n",
    "from pandas import read_excel"
   ]
  },
  {
   "cell_type": "code",
   "execution_count": 3,
   "id": "c02c3935",
   "metadata": {
    "scrolled": true
   },
   "outputs": [
    {
     "name": "stdout",
     "output_type": "stream",
     "text": [
      "1.5.2\n"
     ]
    }
   ],
   "source": [
    "print(pd.__version__)"
   ]
  },
  {
   "cell_type": "code",
   "execution_count": 5,
   "id": "ff4f23b0",
   "metadata": {
    "scrolled": true
   },
   "outputs": [
    {
     "data": {
      "text/plain": [
       "0    1.0\n",
       "1    3.0\n",
       "2    5.0\n",
       "3    4.5\n",
       "4    6.0\n",
       "5    8.0\n",
       "dtype: float64"
      ]
     },
     "metadata": {},
     "output_type": "display_data"
    },
    {
     "data": {
      "text/plain": [
       "0    1.0\n",
       "1    3.4\n",
       "2    5.6\n",
       "3    7.0\n",
       "4    8.4\n",
       "dtype: float64"
      ]
     },
     "metadata": {},
     "output_type": "display_data"
    }
   ],
   "source": [
    "array = [1, 3, 5, 4.5, 6, 8]\n",
    "\n",
    "s1 = pd.Series(array)\n",
    "s2 = pd.Series([1, 3.4, 5.6, 7, 8.4])\n",
    "display(s1, s2)"
   ]
  },
  {
   "cell_type": "code",
   "execution_count": 9,
   "id": "b1596d3b",
   "metadata": {},
   "outputs": [
    {
     "name": "stdout",
     "output_type": "stream",
     "text": [
      "7     5.0\n",
      "8     4.5\n",
      "9     6.0\n",
      "10    8.0\n",
      "dtype: float64\n",
      "8     4.5\n",
      "9     6.0\n",
      "10    8.0\n",
      "dtype: float64\n",
      "5    1.0\n",
      "6    3.0\n",
      "7    5.0\n",
      "dtype: float64\n",
      "5    1.0\n",
      "6    3.0\n",
      "7    5.0\n",
      "dtype: float64\n"
     ]
    }
   ],
   "source": [
    "order = [5, 6, 7, 8, 9, 10]\n",
    "num_entries = 3\n",
    "\n",
    "s1 = pd.Series(array, index=order)\n",
    "s1\n",
    "\n",
    "print(s1.iloc[(num_entries-1):])\n",
    "print(s1.iloc[-3:])\n",
    "print(s1.iloc[:-3])\n",
    "print(s1.iloc[:3])"
   ]
  },
  {
   "cell_type": "code",
   "execution_count": 5,
   "id": "f72783b9",
   "metadata": {
    "scrolled": true
   },
   "outputs": [
    {
     "name": "stdout",
     "output_type": "stream",
     "text": [
      "0    1.0\n",
      "1    3.4\n",
      "2    5.6\n",
      "3    7.0\n",
      "4    8.4\n",
      "dtype: float64\n",
      "A    1.0\n",
      "B    3.4\n",
      "C    5.6\n",
      "D    7.0\n",
      "E    8.4\n",
      "dtype: float64\n"
     ]
    }
   ],
   "source": [
    "print(s2)\n",
    "\n",
    "s2.index = ['A', 'B', 'C', 'D', 'E']\n",
    "print(s2)"
   ]
  },
  {
   "cell_type": "code",
   "execution_count": 10,
   "id": "4ee5b42d",
   "metadata": {},
   "outputs": [
    {
     "data": {
      "text/plain": [
       "A    1.384349\n",
       "B    1.059191\n",
       "C    1.064555\n",
       "D    1.094764\n",
       "E   -1.551382\n",
       "dtype: float64"
      ]
     },
     "execution_count": 10,
     "metadata": {},
     "output_type": "execute_result"
    }
   ],
   "source": [
    "n = np.random.randn(5)\n",
    "my_index = ['A', 'B', 'C', 'D', 'E']\n",
    "\n",
    "s3 = pd.Series(n, index=my_index)\n",
    "s3"
   ]
  },
  {
   "cell_type": "code",
   "execution_count": 7,
   "id": "2fa36891",
   "metadata": {
    "scrolled": true
   },
   "outputs": [
    {
     "name": "stdout",
     "output_type": "stream",
     "text": [
      "8     9.0\n",
      "9    10.5\n",
      "dtype: float64\n",
      "8     9.0\n",
      "9    10.5\n",
      "dtype: float64\n",
      "0    1.0\n",
      "1    2.0\n",
      "dtype: float64\n",
      "0    1.0\n",
      "1    2.0\n",
      "dtype: float64\n"
     ]
    }
   ],
   "source": [
    "s5 = pd.Series([1, 2, 3, 4, 5, 6, 7, 8, 9, 10.5])\n",
    "\n",
    "print(s5.iloc[8:10:1])\n",
    "print(s5.iloc[-2:])\n",
    "print(s5.iloc[:-8])\n",
    "print(s5.iloc[-10:-8])"
   ]
  },
  {
   "cell_type": "code",
   "execution_count": 8,
   "id": "95c9451b",
   "metadata": {
    "scrolled": true
   },
   "outputs": [
    {
     "data": {
      "text/plain": [
       "5      1.0\n",
       "6      3.0\n",
       "7      5.0\n",
       "8      4.5\n",
       "9      6.0\n",
       "10     8.0\n",
       "0      1.0\n",
       "1      2.0\n",
       "2      3.0\n",
       "3      4.0\n",
       "4      5.0\n",
       "5      6.0\n",
       "6      7.0\n",
       "7      8.0\n",
       "8      9.0\n",
       "9     10.5\n",
       "dtype: float64"
      ]
     },
     "metadata": {},
     "output_type": "display_data"
    }
   ],
   "source": [
    "s6 = pd.concat([s1, s5])\n",
    "\n",
    "display(s6)"
   ]
  },
  {
   "cell_type": "code",
   "execution_count": 9,
   "id": "582c3ad0",
   "metadata": {},
   "outputs": [
    {
     "data": {
      "text/plain": [
       "A    1\n",
       "B    2\n",
       "C    3\n",
       "D    4\n",
       "E    5\n",
       "dtype: int64"
      ]
     },
     "execution_count": 9,
     "metadata": {},
     "output_type": "execute_result"
    }
   ],
   "source": [
    "dictionary = {'A' : 1, 'B' : 2, 'C' : 3, 'D' : 4,'E' : 5}\n",
    "\n",
    "s4 = pd.Series(dictionary)\n",
    "s4"
   ]
  },
  {
   "cell_type": "code",
   "execution_count": 12,
   "id": "9048a275",
   "metadata": {
    "scrolled": false
   },
   "outputs": [
    {
     "data": {
      "text/html": [
       "<div>\n",
       "<style scoped>\n",
       "    .dataframe tbody tr th:only-of-type {\n",
       "        vertical-align: middle;\n",
       "    }\n",
       "\n",
       "    .dataframe tbody tr th {\n",
       "        vertical-align: top;\n",
       "    }\n",
       "\n",
       "    .dataframe thead th {\n",
       "        text-align: right;\n",
       "    }\n",
       "</style>\n",
       "<table border=\"1\" class=\"dataframe\">\n",
       "  <thead>\n",
       "    <tr style=\"text-align: right;\">\n",
       "      <th></th>\n",
       "      <th>A</th>\n",
       "      <th>B</th>\n",
       "      <th>C</th>\n",
       "      <th>D</th>\n",
       "    </tr>\n",
       "  </thead>\n",
       "  <tbody>\n",
       "    <tr>\n",
       "      <th>2022-05-01</th>\n",
       "      <td>1.610098</td>\n",
       "      <td>0.717731</td>\n",
       "      <td>-0.300520</td>\n",
       "      <td>0.449125</td>\n",
       "    </tr>\n",
       "    <tr>\n",
       "      <th>2022-05-02</th>\n",
       "      <td>-0.762810</td>\n",
       "      <td>-0.849782</td>\n",
       "      <td>0.185113</td>\n",
       "      <td>-0.093964</td>\n",
       "    </tr>\n",
       "    <tr>\n",
       "      <th>2022-05-03</th>\n",
       "      <td>0.218495</td>\n",
       "      <td>2.133412</td>\n",
       "      <td>-0.444878</td>\n",
       "      <td>0.753597</td>\n",
       "    </tr>\n",
       "    <tr>\n",
       "      <th>2022-05-04</th>\n",
       "      <td>0.046049</td>\n",
       "      <td>0.010595</td>\n",
       "      <td>0.641019</td>\n",
       "      <td>-0.245570</td>\n",
       "    </tr>\n",
       "  </tbody>\n",
       "</table>\n",
       "</div>"
      ],
      "text/plain": [
       "                   A         B         C         D\n",
       "2022-05-01  1.610098  0.717731 -0.300520  0.449125\n",
       "2022-05-02 -0.762810 -0.849782  0.185113 -0.093964\n",
       "2022-05-03  0.218495  2.133412 -0.444878  0.753597\n",
       "2022-05-04  0.046049  0.010595  0.641019 -0.245570"
      ]
     },
     "execution_count": 12,
     "metadata": {},
     "output_type": "execute_result"
    }
   ],
   "source": [
    "columns = ('A', 'B', 'C', 'D')\n",
    "\n",
    "dates = pd.date_range('20220501', periods=4)\n",
    "\n",
    "df1 = pd.DataFrame(np.random.randn(4,4), index=dates, columns=columns, dtype='float64')\n",
    "\n",
    "df1"
   ]
  },
  {
   "cell_type": "code",
   "execution_count": 26,
   "id": "da0d7d5f",
   "metadata": {
    "scrolled": false
   },
   "outputs": [
    {
     "data": {
      "text/html": [
       "<div>\n",
       "<style scoped>\n",
       "    .dataframe tbody tr th:only-of-type {\n",
       "        vertical-align: middle;\n",
       "    }\n",
       "\n",
       "    .dataframe tbody tr th {\n",
       "        vertical-align: top;\n",
       "    }\n",
       "\n",
       "    .dataframe thead th {\n",
       "        text-align: right;\n",
       "    }\n",
       "</style>\n",
       "<table border=\"1\" class=\"dataframe\">\n",
       "  <thead>\n",
       "    <tr style=\"text-align: right;\">\n",
       "      <th></th>\n",
       "      <th>A</th>\n",
       "      <th>B</th>\n",
       "      <th>C</th>\n",
       "      <th>D</th>\n",
       "      <th>E</th>\n",
       "      <th>F</th>\n",
       "    </tr>\n",
       "  </thead>\n",
       "  <tbody>\n",
       "    <tr>\n",
       "      <th>0</th>\n",
       "      <td>1.0</td>\n",
       "      <td>2013-01-02</td>\n",
       "      <td>1</td>\n",
       "      <td>3.0</td>\n",
       "      <td>test</td>\n",
       "      <td>Aasa</td>\n",
       "    </tr>\n",
       "    <tr>\n",
       "      <th>1</th>\n",
       "      <td>2.0</td>\n",
       "      <td>2013-01-03</td>\n",
       "      <td>2</td>\n",
       "      <td>3.0</td>\n",
       "      <td>train</td>\n",
       "      <td>S</td>\n",
       "    </tr>\n",
       "    <tr>\n",
       "      <th>2</th>\n",
       "      <td>3.0</td>\n",
       "      <td>2013-01-04</td>\n",
       "      <td>3</td>\n",
       "      <td>3.0</td>\n",
       "      <td>test</td>\n",
       "      <td>H</td>\n",
       "    </tr>\n",
       "    <tr>\n",
       "      <th>3</th>\n",
       "      <td>4.0</td>\n",
       "      <td>2013-01-05</td>\n",
       "      <td>4</td>\n",
       "      <td>3.0</td>\n",
       "      <td>train</td>\n",
       "      <td>E</td>\n",
       "    </tr>\n",
       "    <tr>\n",
       "      <th>4</th>\n",
       "      <td>5.0</td>\n",
       "      <td>2013-01-06</td>\n",
       "      <td>5</td>\n",
       "      <td>3.0</td>\n",
       "      <td>test</td>\n",
       "      <td>S</td>\n",
       "    </tr>\n",
       "    <tr>\n",
       "      <th>5</th>\n",
       "      <td>6.0</td>\n",
       "      <td>2013-01-07</td>\n",
       "      <td>6</td>\n",
       "      <td>3.0</td>\n",
       "      <td>train</td>\n",
       "      <td>A</td>\n",
       "    </tr>\n",
       "    <tr>\n",
       "      <th>6</th>\n",
       "      <td>7.0</td>\n",
       "      <td>2013-01-08</td>\n",
       "      <td>7</td>\n",
       "      <td>3.0</td>\n",
       "      <td>test</td>\n",
       "      <td>S</td>\n",
       "    </tr>\n",
       "    <tr>\n",
       "      <th>7</th>\n",
       "      <td>8.0</td>\n",
       "      <td>2013-01-09</td>\n",
       "      <td>8</td>\n",
       "      <td>3.0</td>\n",
       "      <td>train</td>\n",
       "      <td>H</td>\n",
       "    </tr>\n",
       "    <tr>\n",
       "      <th>8</th>\n",
       "      <td>9.0</td>\n",
       "      <td>2013-01-10</td>\n",
       "      <td>9</td>\n",
       "      <td>3.0</td>\n",
       "      <td>test</td>\n",
       "      <td>E</td>\n",
       "    </tr>\n",
       "    <tr>\n",
       "      <th>9</th>\n",
       "      <td>10.0</td>\n",
       "      <td>2013-01-11</td>\n",
       "      <td>10</td>\n",
       "      <td>3.0</td>\n",
       "      <td>train</td>\n",
       "      <td>S</td>\n",
       "    </tr>\n",
       "  </tbody>\n",
       "</table>\n",
       "</div>"
      ],
      "text/plain": [
       "      A          B   C    D      E     F\n",
       "0   1.0 2013-01-02   1  3.0   test  Aasa\n",
       "1   2.0 2013-01-03   2  3.0  train     S\n",
       "2   3.0 2013-01-04   3  3.0   test     H\n",
       "3   4.0 2013-01-05   4  3.0  train     E\n",
       "4   5.0 2013-01-06   5  3.0   test     S\n",
       "5   6.0 2013-01-07   6  3.0  train     A\n",
       "6   7.0 2013-01-08   7  3.0   test     S\n",
       "7   8.0 2013-01-09   8  3.0  train     H\n",
       "8   9.0 2013-01-10   9  3.0   test     E\n",
       "9  10.0 2013-01-11  10  3.0  train     S"
      ]
     },
     "metadata": {},
     "output_type": "display_data"
    }
   ],
   "source": [
    "df2 = pd.DataFrame(\n",
    "    {\n",
    "        \"A\": [1.0, 2.0, 3.0, 4.0, 5.0, 6.0, 7.0, 8.0, 9.0, 10.0],\n",
    "        \"B\": pd.date_range('20130102', periods=10),\n",
    "        \"C\": pd.Series([1, 2, 3, 4, 5, 6, 7, 8, 9, 10], index=list(range(10)), dtype='int64'),\n",
    "        \"D\": np.array([3] * 10, dtype='float64'),\n",
    "        \"E\": pd.Categorical(['test', 'train', 'test', 'train', 'test', 'train', 'test', 'train', 'test', 'train']),\n",
    "        \"F\": ['Aasa', 'S', 'H', 'E', 'S', 'A', 'S', 'H', 'E', 'S'],  \n",
    "  }\n",
    ")\n",
    "\n",
    "display(df2)"
   ]
  },
  {
   "cell_type": "code",
   "execution_count": 15,
   "id": "77485cda",
   "metadata": {},
   "outputs": [
    {
     "data": {
      "text/html": [
       "<div>\n",
       "<style scoped>\n",
       "    .dataframe tbody tr th:only-of-type {\n",
       "        vertical-align: middle;\n",
       "    }\n",
       "\n",
       "    .dataframe tbody tr th {\n",
       "        vertical-align: top;\n",
       "    }\n",
       "\n",
       "    .dataframe thead th {\n",
       "        text-align: right;\n",
       "    }\n",
       "</style>\n",
       "<table border=\"1\" class=\"dataframe\">\n",
       "  <thead>\n",
       "    <tr style=\"text-align: right;\">\n",
       "      <th></th>\n",
       "      <th>A</th>\n",
       "      <th>B</th>\n",
       "      <th>C</th>\n",
       "      <th>D</th>\n",
       "      <th>E</th>\n",
       "      <th>F</th>\n",
       "    </tr>\n",
       "  </thead>\n",
       "  <tbody>\n",
       "    <tr>\n",
       "      <th>0</th>\n",
       "      <td>1.0</td>\n",
       "      <td>2013-01-02</td>\n",
       "      <td>1</td>\n",
       "      <td>3.0</td>\n",
       "      <td>test</td>\n",
       "      <td>Aasa</td>\n",
       "    </tr>\n",
       "    <tr>\n",
       "      <th>1</th>\n",
       "      <td>2.0</td>\n",
       "      <td>2013-01-03</td>\n",
       "      <td>2</td>\n",
       "      <td>3.0</td>\n",
       "      <td>train</td>\n",
       "      <td>S</td>\n",
       "    </tr>\n",
       "    <tr>\n",
       "      <th>2</th>\n",
       "      <td>3.0</td>\n",
       "      <td>2013-01-04</td>\n",
       "      <td>3</td>\n",
       "      <td>3.0</td>\n",
       "      <td>test</td>\n",
       "      <td>H</td>\n",
       "    </tr>\n",
       "    <tr>\n",
       "      <th>3</th>\n",
       "      <td>4.0</td>\n",
       "      <td>2013-01-05</td>\n",
       "      <td>4</td>\n",
       "      <td>3.0</td>\n",
       "      <td>train</td>\n",
       "      <td>E</td>\n",
       "    </tr>\n",
       "    <tr>\n",
       "      <th>4</th>\n",
       "      <td>5.0</td>\n",
       "      <td>2013-01-06</td>\n",
       "      <td>5</td>\n",
       "      <td>3.0</td>\n",
       "      <td>test</td>\n",
       "      <td>S</td>\n",
       "    </tr>\n",
       "    <tr>\n",
       "      <th>5</th>\n",
       "      <td>6.0</td>\n",
       "      <td>2013-01-07</td>\n",
       "      <td>6</td>\n",
       "      <td>3.0</td>\n",
       "      <td>train</td>\n",
       "      <td>A</td>\n",
       "    </tr>\n",
       "    <tr>\n",
       "      <th>6</th>\n",
       "      <td>7.0</td>\n",
       "      <td>2013-01-08</td>\n",
       "      <td>7</td>\n",
       "      <td>3.0</td>\n",
       "      <td>test</td>\n",
       "      <td>S</td>\n",
       "    </tr>\n",
       "    <tr>\n",
       "      <th>7</th>\n",
       "      <td>8.0</td>\n",
       "      <td>2013-01-09</td>\n",
       "      <td>8</td>\n",
       "      <td>3.0</td>\n",
       "      <td>train</td>\n",
       "      <td>H</td>\n",
       "    </tr>\n",
       "    <tr>\n",
       "      <th>8</th>\n",
       "      <td>9.0</td>\n",
       "      <td>2013-01-10</td>\n",
       "      <td>9</td>\n",
       "      <td>3.0</td>\n",
       "      <td>test</td>\n",
       "      <td>E</td>\n",
       "    </tr>\n",
       "  </tbody>\n",
       "</table>\n",
       "</div>"
      ],
      "text/plain": [
       "     A          B  C    D      E     F\n",
       "0  1.0 2013-01-02  1  3.0   test  Aasa\n",
       "1  2.0 2013-01-03  2  3.0  train     S\n",
       "2  3.0 2013-01-04  3  3.0   test     H\n",
       "3  4.0 2013-01-05  4  3.0  train     E\n",
       "4  5.0 2013-01-06  5  3.0   test     S\n",
       "5  6.0 2013-01-07  6  3.0  train     A\n",
       "6  7.0 2013-01-08  7  3.0   test     S\n",
       "7  8.0 2013-01-09  8  3.0  train     H\n",
       "8  9.0 2013-01-10  9  3.0   test     E"
      ]
     },
     "execution_count": 15,
     "metadata": {},
     "output_type": "execute_result"
    }
   ],
   "source": [
    "df2.drop(9)"
   ]
  },
  {
   "cell_type": "code",
   "execution_count": 16,
   "id": "bf2eef2e",
   "metadata": {},
   "outputs": [
    {
     "data": {
      "text/html": [
       "<div>\n",
       "<style scoped>\n",
       "    .dataframe tbody tr th:only-of-type {\n",
       "        vertical-align: middle;\n",
       "    }\n",
       "\n",
       "    .dataframe tbody tr th {\n",
       "        vertical-align: top;\n",
       "    }\n",
       "\n",
       "    .dataframe thead th {\n",
       "        text-align: right;\n",
       "    }\n",
       "</style>\n",
       "<table border=\"1\" class=\"dataframe\">\n",
       "  <thead>\n",
       "    <tr style=\"text-align: right;\">\n",
       "      <th></th>\n",
       "      <th>A</th>\n",
       "      <th>B</th>\n",
       "      <th>C</th>\n",
       "      <th>D</th>\n",
       "      <th>E</th>\n",
       "      <th>F</th>\n",
       "    </tr>\n",
       "  </thead>\n",
       "  <tbody>\n",
       "    <tr>\n",
       "      <th>0</th>\n",
       "      <td>1.0</td>\n",
       "      <td>2013-01-02</td>\n",
       "      <td>1</td>\n",
       "      <td>3.0</td>\n",
       "      <td>test</td>\n",
       "      <td>Aasa</td>\n",
       "    </tr>\n",
       "    <tr>\n",
       "      <th>1</th>\n",
       "      <td>2.0</td>\n",
       "      <td>2013-01-03</td>\n",
       "      <td>2</td>\n",
       "      <td>3.0</td>\n",
       "      <td>train</td>\n",
       "      <td>S</td>\n",
       "    </tr>\n",
       "    <tr>\n",
       "      <th>2</th>\n",
       "      <td>3.0</td>\n",
       "      <td>2013-01-04</td>\n",
       "      <td>3</td>\n",
       "      <td>3.0</td>\n",
       "      <td>test</td>\n",
       "      <td>H</td>\n",
       "    </tr>\n",
       "    <tr>\n",
       "      <th>3</th>\n",
       "      <td>4.0</td>\n",
       "      <td>2013-01-05</td>\n",
       "      <td>4</td>\n",
       "      <td>3.0</td>\n",
       "      <td>train</td>\n",
       "      <td>E</td>\n",
       "    </tr>\n",
       "    <tr>\n",
       "      <th>4</th>\n",
       "      <td>5.0</td>\n",
       "      <td>2013-01-06</td>\n",
       "      <td>5</td>\n",
       "      <td>3.0</td>\n",
       "      <td>test</td>\n",
       "      <td>S</td>\n",
       "    </tr>\n",
       "  </tbody>\n",
       "</table>\n",
       "</div>"
      ],
      "text/plain": [
       "     A          B  C    D      E     F\n",
       "0  1.0 2013-01-02  1  3.0   test  Aasa\n",
       "1  2.0 2013-01-03  2  3.0  train     S\n",
       "2  3.0 2013-01-04  3  3.0   test     H\n",
       "3  4.0 2013-01-05  4  3.0  train     E\n",
       "4  5.0 2013-01-06  5  3.0   test     S"
      ]
     },
     "metadata": {},
     "output_type": "display_data"
    }
   ],
   "source": [
    "df2 = df2.drop(9)\n",
    "df2 = df2.drop(8)\n",
    "df2 = df2.drop(7)\n",
    "df2 = df2.drop(6)\n",
    "df2 = df2.drop(5)\n",
    "\n",
    "display(df2)"
   ]
  },
  {
   "cell_type": "code",
   "execution_count": 14,
   "id": "86bfc794",
   "metadata": {},
   "outputs": [
    {
     "name": "stdout",
     "output_type": "stream",
     "text": [
      "0    1\n",
      "1    2\n",
      "2    3\n",
      "3    4\n",
      "4    5\n",
      "5    6\n",
      "dtype: int64\n",
      "0    1.5\n",
      "1    2.5\n",
      "2    3.5\n",
      "3    4.5\n",
      "4    5.5\n",
      "dtype: float64\n"
     ]
    }
   ],
   "source": [
    "arr1 = [1, 2, 3, 4, 5, 6]\n",
    "arr2 = [1.5, 2.5, 3.5, 4.5, 5.5]\n",
    "\n",
    "s7 = pd.Series(arr1)\n",
    "print(s7)\n",
    "\n",
    "s8 = pd.Series(arr2)\n",
    "print(s8)"
   ]
  },
  {
   "cell_type": "code",
   "execution_count": 15,
   "id": "4bb84179",
   "metadata": {},
   "outputs": [
    {
     "data": {
      "text/plain": [
       "0     2.5\n",
       "1     4.5\n",
       "2     6.5\n",
       "3     8.5\n",
       "4    10.5\n",
       "5     NaN\n",
       "dtype: float64"
      ]
     },
     "execution_count": 15,
     "metadata": {},
     "output_type": "execute_result"
    }
   ],
   "source": [
    "s8.add(s7)"
   ]
  },
  {
   "cell_type": "code",
   "execution_count": 16,
   "id": "69cbeaf3",
   "metadata": {},
   "outputs": [
    {
     "data": {
      "text/plain": [
       "0    0.5\n",
       "1    0.5\n",
       "2    0.5\n",
       "3    0.5\n",
       "4    0.5\n",
       "5    NaN\n",
       "dtype: float64"
      ]
     },
     "execution_count": 16,
     "metadata": {},
     "output_type": "execute_result"
    }
   ],
   "source": [
    "s8.sub(s7)"
   ]
  },
  {
   "cell_type": "code",
   "execution_count": 17,
   "id": "94b81c82",
   "metadata": {},
   "outputs": [
    {
     "data": {
      "text/plain": [
       "0     1.5\n",
       "1     5.0\n",
       "2    10.5\n",
       "3    18.0\n",
       "4    27.5\n",
       "5     NaN\n",
       "dtype: float64"
      ]
     },
     "execution_count": 17,
     "metadata": {},
     "output_type": "execute_result"
    }
   ],
   "source": [
    "s7.mul(s8)"
   ]
  },
  {
   "cell_type": "code",
   "execution_count": 18,
   "id": "f21f40e4",
   "metadata": {},
   "outputs": [
    {
     "data": {
      "text/plain": [
       "0    1.500000\n",
       "1    1.250000\n",
       "2    1.166667\n",
       "3    1.125000\n",
       "4    1.100000\n",
       "5         NaN\n",
       "dtype: float64"
      ]
     },
     "execution_count": 18,
     "metadata": {},
     "output_type": "execute_result"
    }
   ],
   "source": [
    "s8.div(s7)"
   ]
  },
  {
   "cell_type": "code",
   "execution_count": 19,
   "id": "0b2c4e16",
   "metadata": {
    "scrolled": true
   },
   "outputs": [
    {
     "name": "stdout",
     "output_type": "stream",
     "text": [
      "0     1.5\n",
      "1     5.0\n",
      "2    10.5\n",
      "3    18.0\n",
      "4    27.5\n",
      "5     NaN\n",
      "dtype: float64\n",
      "Max value: 27.5\n",
      "Mean value: 12.5\n",
      "Min value: 1.5\n"
     ]
    }
   ],
   "source": [
    "s1 = s7.mul(s8)\n",
    "print(s1)\n",
    "\n",
    "print('Max value:', s1.max())\n",
    "print('Mean value:', s1.mean())\n",
    "print('Min value:', s1.min())"
   ]
  },
  {
   "cell_type": "code",
   "execution_count": 17,
   "id": "248d33aa",
   "metadata": {},
   "outputs": [
    {
     "name": "stdout",
     "output_type": "stream",
     "text": [
      "DatetimeIndex(['2023-01-15 15:08:51.684871', '2023-01-16 15:08:51.684871',\n",
      "               '2023-01-17 15:08:51.684871', '2023-01-18 15:08:51.684871',\n",
      "               '2023-01-19 15:08:51.684871', '2023-01-20 15:08:51.684871'],\n",
      "              dtype='datetime64[ns]', freq='D')\n"
     ]
    }
   ],
   "source": [
    "time = pd.date_range('today', periods=6)\n",
    "print(time)"
   ]
  },
  {
   "cell_type": "code",
   "execution_count": 18,
   "id": "4c331902",
   "metadata": {},
   "outputs": [
    {
     "data": {
      "text/html": [
       "<div>\n",
       "<style scoped>\n",
       "    .dataframe tbody tr th:only-of-type {\n",
       "        vertical-align: middle;\n",
       "    }\n",
       "\n",
       "    .dataframe tbody tr th {\n",
       "        vertical-align: top;\n",
       "    }\n",
       "\n",
       "    .dataframe thead th {\n",
       "        text-align: right;\n",
       "    }\n",
       "</style>\n",
       "<table border=\"1\" class=\"dataframe\">\n",
       "  <thead>\n",
       "    <tr style=\"text-align: right;\">\n",
       "      <th></th>\n",
       "      <th>A</th>\n",
       "      <th>B</th>\n",
       "      <th>C</th>\n",
       "      <th>D</th>\n",
       "    </tr>\n",
       "  </thead>\n",
       "  <tbody>\n",
       "    <tr>\n",
       "      <th>2023-01-15 15:08:51.684871</th>\n",
       "      <td>0.034506</td>\n",
       "      <td>0.202821</td>\n",
       "      <td>1.351624</td>\n",
       "      <td>1.796053</td>\n",
       "    </tr>\n",
       "    <tr>\n",
       "      <th>2023-01-16 15:08:51.684871</th>\n",
       "      <td>1.564561</td>\n",
       "      <td>-0.416934</td>\n",
       "      <td>-1.218325</td>\n",
       "      <td>-0.167261</td>\n",
       "    </tr>\n",
       "    <tr>\n",
       "      <th>2023-01-17 15:08:51.684871</th>\n",
       "      <td>1.095255</td>\n",
       "      <td>-0.911524</td>\n",
       "      <td>0.067084</td>\n",
       "      <td>-1.686344</td>\n",
       "    </tr>\n",
       "    <tr>\n",
       "      <th>2023-01-18 15:08:51.684871</th>\n",
       "      <td>-1.188896</td>\n",
       "      <td>-1.096360</td>\n",
       "      <td>-1.017631</td>\n",
       "      <td>0.934377</td>\n",
       "    </tr>\n",
       "    <tr>\n",
       "      <th>2023-01-19 15:08:51.684871</th>\n",
       "      <td>0.349045</td>\n",
       "      <td>-0.201408</td>\n",
       "      <td>-1.248881</td>\n",
       "      <td>-0.432896</td>\n",
       "    </tr>\n",
       "    <tr>\n",
       "      <th>2023-01-20 15:08:51.684871</th>\n",
       "      <td>-0.180990</td>\n",
       "      <td>-1.191835</td>\n",
       "      <td>-1.398678</td>\n",
       "      <td>-1.020065</td>\n",
       "    </tr>\n",
       "  </tbody>\n",
       "</table>\n",
       "</div>"
      ],
      "text/plain": [
       "                                   A         B         C         D\n",
       "2023-01-15 15:08:51.684871  0.034506  0.202821  1.351624  1.796053\n",
       "2023-01-16 15:08:51.684871  1.564561 -0.416934 -1.218325 -0.167261\n",
       "2023-01-17 15:08:51.684871  1.095255 -0.911524  0.067084 -1.686344\n",
       "2023-01-18 15:08:51.684871 -1.188896 -1.096360 -1.017631  0.934377\n",
       "2023-01-19 15:08:51.684871  0.349045 -0.201408 -1.248881 -0.432896\n",
       "2023-01-20 15:08:51.684871 -0.180990 -1.191835 -1.398678 -1.020065"
      ]
     },
     "execution_count": 18,
     "metadata": {},
     "output_type": "execute_result"
    }
   ],
   "source": [
    "columns = ('A', 'B', 'C', 'D')\n",
    "\n",
    "num_arr = np.random.randn(6,4)\n",
    "\n",
    "df3 = pd.DataFrame(num_arr, index=time, columns=columns)\n",
    "df3"
   ]
  },
  {
   "cell_type": "code",
   "execution_count": 28,
   "id": "27fd645a",
   "metadata": {},
   "outputs": [
    {
     "data": {
      "text/html": [
       "<div>\n",
       "<style scoped>\n",
       "    .dataframe tbody tr th:only-of-type {\n",
       "        vertical-align: middle;\n",
       "    }\n",
       "\n",
       "    .dataframe tbody tr th {\n",
       "        vertical-align: top;\n",
       "    }\n",
       "\n",
       "    .dataframe thead th {\n",
       "        text-align: right;\n",
       "    }\n",
       "</style>\n",
       "<table border=\"1\" class=\"dataframe\">\n",
       "  <thead>\n",
       "    <tr style=\"text-align: right;\">\n",
       "      <th></th>\n",
       "      <th>Animal</th>\n",
       "      <th>Age</th>\n",
       "      <th>Visits</th>\n",
       "      <th>Priority</th>\n",
       "    </tr>\n",
       "  </thead>\n",
       "  <tbody>\n",
       "    <tr>\n",
       "      <th>a</th>\n",
       "      <td>cat</td>\n",
       "      <td>2.5</td>\n",
       "      <td>1</td>\n",
       "      <td>yes</td>\n",
       "    </tr>\n",
       "    <tr>\n",
       "      <th>b</th>\n",
       "      <td>dog</td>\n",
       "      <td>3.0</td>\n",
       "      <td>3</td>\n",
       "      <td>yes</td>\n",
       "    </tr>\n",
       "    <tr>\n",
       "      <th>c</th>\n",
       "      <td>snake</td>\n",
       "      <td>0.5</td>\n",
       "      <td>2</td>\n",
       "      <td>no</td>\n",
       "    </tr>\n",
       "    <tr>\n",
       "      <th>d</th>\n",
       "      <td>monkey</td>\n",
       "      <td>NaN</td>\n",
       "      <td>3</td>\n",
       "      <td>yes</td>\n",
       "    </tr>\n",
       "    <tr>\n",
       "      <th>e</th>\n",
       "      <td>bird</td>\n",
       "      <td>1.7</td>\n",
       "      <td>2</td>\n",
       "      <td>no</td>\n",
       "    </tr>\n",
       "    <tr>\n",
       "      <th>f</th>\n",
       "      <td>elephant</td>\n",
       "      <td>7.0</td>\n",
       "      <td>3</td>\n",
       "      <td>no</td>\n",
       "    </tr>\n",
       "    <tr>\n",
       "      <th>g</th>\n",
       "      <td>lion</td>\n",
       "      <td>4.5</td>\n",
       "      <td>1</td>\n",
       "      <td>no</td>\n",
       "    </tr>\n",
       "    <tr>\n",
       "      <th>h</th>\n",
       "      <td>rabbit</td>\n",
       "      <td>NaN</td>\n",
       "      <td>1</td>\n",
       "      <td>yes</td>\n",
       "    </tr>\n",
       "    <tr>\n",
       "      <th>i</th>\n",
       "      <td>fox</td>\n",
       "      <td>2.0</td>\n",
       "      <td>2</td>\n",
       "      <td>no</td>\n",
       "    </tr>\n",
       "    <tr>\n",
       "      <th>j</th>\n",
       "      <td>wolf</td>\n",
       "      <td>5.0</td>\n",
       "      <td>1</td>\n",
       "      <td>no</td>\n",
       "    </tr>\n",
       "  </tbody>\n",
       "</table>\n",
       "</div>"
      ],
      "text/plain": [
       "     Animal  Age  Visits Priority\n",
       "a       cat  2.5       1      yes\n",
       "b       dog  3.0       3      yes\n",
       "c     snake  0.5       2       no\n",
       "d    monkey  NaN       3      yes\n",
       "e      bird  1.7       2       no\n",
       "f  elephant  7.0       3       no\n",
       "g      lion  4.5       1       no\n",
       "h    rabbit  NaN       1      yes\n",
       "i       fox  2.0       2       no\n",
       "j      wolf  5.0       1       no"
      ]
     },
     "metadata": {},
     "output_type": "display_data"
    }
   ],
   "source": [
    "data = {\n",
    "    'Animal': ['cat', 'dog', 'snake', 'monkey', 'bird', 'elephant', 'lion', 'rabbit', 'fox', 'wolf'],\n",
    "    'Age': [2.5, 3, 0.5, np.nan, 1.7, 7, 4.5, np.nan, 2, 5],\n",
    "    'Visits': [1, 3, 2, 3, 2, 3, 1, 1, 2, 1],\n",
    "    'Priority': ['yes', 'yes', 'no', 'yes', 'no', 'no', 'no', 'yes', 'no', 'no'],  \n",
    "}\n",
    "\n",
    "labels = ['a', 'b', 'c', 'd', 'e', 'f', 'g', 'h', 'i', 'j']\n",
    "\n",
    "df2 = pd.DataFrame(data, index=labels)\n",
    "display(df2)"
   ]
  },
  {
   "cell_type": "code",
   "execution_count": 29,
   "id": "fcdef42e",
   "metadata": {
    "scrolled": true
   },
   "outputs": [
    {
     "name": "stdout",
     "output_type": "stream",
     "text": [
      "Animal       object\n",
      "Age         float64\n",
      "Visits        int64\n",
      "Priority     object\n",
      "dtype: object\n"
     ]
    }
   ],
   "source": [
    "print(df2.dtypes)"
   ]
  },
  {
   "cell_type": "code",
   "execution_count": 30,
   "id": "5e4df662",
   "metadata": {},
   "outputs": [
    {
     "name": "stdout",
     "output_type": "stream",
     "text": [
      "  Animal  Age  Visits Priority\n",
      "a    cat  2.5       1      yes\n",
      "b    dog  3.0       3      yes\n"
     ]
    }
   ],
   "source": [
    "print(df2.head(2))"
   ]
  },
  {
   "cell_type": "code",
   "execution_count": 31,
   "id": "1506dde2",
   "metadata": {},
   "outputs": [
    {
     "name": "stdout",
     "output_type": "stream",
     "text": [
      "  Animal  Age  Visits Priority\n",
      "i    fox  2.0       2       no\n",
      "j   wolf  5.0       1       no\n"
     ]
    }
   ],
   "source": [
    "print(df2.tail(2))"
   ]
  },
  {
   "cell_type": "code",
   "execution_count": 32,
   "id": "d21a0d14",
   "metadata": {
    "scrolled": true
   },
   "outputs": [
    {
     "data": {
      "text/html": [
       "<div>\n",
       "<style scoped>\n",
       "    .dataframe tbody tr th:only-of-type {\n",
       "        vertical-align: middle;\n",
       "    }\n",
       "\n",
       "    .dataframe tbody tr th {\n",
       "        vertical-align: top;\n",
       "    }\n",
       "\n",
       "    .dataframe thead th {\n",
       "        text-align: right;\n",
       "    }\n",
       "</style>\n",
       "<table border=\"1\" class=\"dataframe\">\n",
       "  <thead>\n",
       "    <tr style=\"text-align: right;\">\n",
       "      <th></th>\n",
       "      <th>Animal</th>\n",
       "      <th>Age</th>\n",
       "      <th>Visits</th>\n",
       "      <th>Priority</th>\n",
       "    </tr>\n",
       "  </thead>\n",
       "  <tbody>\n",
       "    <tr>\n",
       "      <th>a</th>\n",
       "      <td>cat</td>\n",
       "      <td>2.5</td>\n",
       "      <td>1</td>\n",
       "      <td>yes</td>\n",
       "    </tr>\n",
       "    <tr>\n",
       "      <th>b</th>\n",
       "      <td>dog</td>\n",
       "      <td>3.0</td>\n",
       "      <td>3</td>\n",
       "      <td>yes</td>\n",
       "    </tr>\n",
       "    <tr>\n",
       "      <th>c</th>\n",
       "      <td>snake</td>\n",
       "      <td>0.5</td>\n",
       "      <td>2</td>\n",
       "      <td>no</td>\n",
       "    </tr>\n",
       "  </tbody>\n",
       "</table>\n",
       "</div>"
      ],
      "text/plain": [
       "  Animal  Age  Visits Priority\n",
       "a    cat  2.5       1      yes\n",
       "b    dog  3.0       3      yes\n",
       "c  snake  0.5       2       no"
      ]
     },
     "metadata": {},
     "output_type": "display_data"
    }
   ],
   "source": [
    "df3 = df2.head(3)\n",
    "display(df3)"
   ]
  },
  {
   "cell_type": "code",
   "execution_count": 33,
   "id": "9e832c89",
   "metadata": {
    "scrolled": true
   },
   "outputs": [
    {
     "data": {
      "text/html": [
       "<div>\n",
       "<style scoped>\n",
       "    .dataframe tbody tr th:only-of-type {\n",
       "        vertical-align: middle;\n",
       "    }\n",
       "\n",
       "    .dataframe tbody tr th {\n",
       "        vertical-align: top;\n",
       "    }\n",
       "\n",
       "    .dataframe thead th {\n",
       "        text-align: right;\n",
       "    }\n",
       "</style>\n",
       "<table border=\"1\" class=\"dataframe\">\n",
       "  <thead>\n",
       "    <tr style=\"text-align: right;\">\n",
       "      <th></th>\n",
       "      <th>Animal</th>\n",
       "      <th>Age</th>\n",
       "      <th>Visits</th>\n",
       "      <th>Priority</th>\n",
       "    </tr>\n",
       "  </thead>\n",
       "  <tbody>\n",
       "    <tr>\n",
       "      <th>h</th>\n",
       "      <td>rabbit</td>\n",
       "      <td>NaN</td>\n",
       "      <td>1</td>\n",
       "      <td>yes</td>\n",
       "    </tr>\n",
       "    <tr>\n",
       "      <th>i</th>\n",
       "      <td>fox</td>\n",
       "      <td>2.0</td>\n",
       "      <td>2</td>\n",
       "      <td>no</td>\n",
       "    </tr>\n",
       "    <tr>\n",
       "      <th>j</th>\n",
       "      <td>wolf</td>\n",
       "      <td>5.0</td>\n",
       "      <td>1</td>\n",
       "      <td>no</td>\n",
       "    </tr>\n",
       "  </tbody>\n",
       "</table>\n",
       "</div>"
      ],
      "text/plain": [
       "   Animal  Age  Visits Priority\n",
       "h  rabbit  NaN       1      yes\n",
       "i     fox  2.0       2       no\n",
       "j    wolf  5.0       1       no"
      ]
     },
     "metadata": {},
     "output_type": "display_data"
    }
   ],
   "source": [
    "df4 = df2.tail(3)\n",
    "display(df4)"
   ]
  },
  {
   "cell_type": "code",
   "execution_count": 33,
   "id": "990d8cf9",
   "metadata": {},
   "outputs": [
    {
     "data": {
      "text/html": [
       "<div>\n",
       "<style scoped>\n",
       "    .dataframe tbody tr th:only-of-type {\n",
       "        vertical-align: middle;\n",
       "    }\n",
       "\n",
       "    .dataframe tbody tr th {\n",
       "        vertical-align: top;\n",
       "    }\n",
       "\n",
       "    .dataframe thead th {\n",
       "        text-align: right;\n",
       "    }\n",
       "</style>\n",
       "<table border=\"1\" class=\"dataframe\">\n",
       "  <thead>\n",
       "    <tr style=\"text-align: right;\">\n",
       "      <th></th>\n",
       "      <th>A</th>\n",
       "      <th>B</th>\n",
       "      <th>C</th>\n",
       "      <th>D</th>\n",
       "      <th>E</th>\n",
       "      <th>F</th>\n",
       "    </tr>\n",
       "  </thead>\n",
       "  <tbody>\n",
       "    <tr>\n",
       "      <th>0</th>\n",
       "      <td>1.0</td>\n",
       "      <td>2013-01-02</td>\n",
       "      <td>1</td>\n",
       "      <td>3.0</td>\n",
       "      <td>test</td>\n",
       "      <td>Aasa</td>\n",
       "    </tr>\n",
       "    <tr>\n",
       "      <th>1</th>\n",
       "      <td>2.0</td>\n",
       "      <td>2013-01-03</td>\n",
       "      <td>2</td>\n",
       "      <td>3.0</td>\n",
       "      <td>train</td>\n",
       "      <td>S</td>\n",
       "    </tr>\n",
       "    <tr>\n",
       "      <th>2</th>\n",
       "      <td>3.0</td>\n",
       "      <td>2013-01-04</td>\n",
       "      <td>3</td>\n",
       "      <td>3.0</td>\n",
       "      <td>test</td>\n",
       "      <td>H</td>\n",
       "    </tr>\n",
       "    <tr>\n",
       "      <th>2</th>\n",
       "      <td>3.0</td>\n",
       "      <td>2013-01-04</td>\n",
       "      <td>3</td>\n",
       "      <td>3.0</td>\n",
       "      <td>test</td>\n",
       "      <td>H</td>\n",
       "    </tr>\n",
       "    <tr>\n",
       "      <th>3</th>\n",
       "      <td>4.0</td>\n",
       "      <td>2013-01-05</td>\n",
       "      <td>4</td>\n",
       "      <td>3.0</td>\n",
       "      <td>train</td>\n",
       "      <td>E</td>\n",
       "    </tr>\n",
       "    <tr>\n",
       "      <th>4</th>\n",
       "      <td>5.0</td>\n",
       "      <td>2013-01-06</td>\n",
       "      <td>5</td>\n",
       "      <td>3.0</td>\n",
       "      <td>test</td>\n",
       "      <td>S</td>\n",
       "    </tr>\n",
       "  </tbody>\n",
       "</table>\n",
       "</div>"
      ],
      "text/plain": [
       "     A          B  C    D      E     F\n",
       "0  1.0 2013-01-02  1  3.0   test  Aasa\n",
       "1  2.0 2013-01-03  2  3.0  train     S\n",
       "2  3.0 2013-01-04  3  3.0   test     H\n",
       "2  3.0 2013-01-04  3  3.0   test     H\n",
       "3  4.0 2013-01-05  4  3.0  train     E\n",
       "4  5.0 2013-01-06  5  3.0   test     S"
      ]
     },
     "execution_count": 33,
     "metadata": {},
     "output_type": "execute_result"
    }
   ],
   "source": [
    "df5 = pd.concat([df3, df4])\n",
    "df5"
   ]
  },
  {
   "cell_type": "code",
   "execution_count": 34,
   "id": "bac65492",
   "metadata": {},
   "outputs": [
    {
     "name": "stdout",
     "output_type": "stream",
     "text": [
      "Index(['a', 'b', 'c', 'd', 'e', 'f', 'g', 'h', 'i', 'j'], dtype='object')\n",
      "Index(['Animal', 'Age', 'Visits', 'Priority'], dtype='object')\n",
      "[['cat' 2.5 1 'yes']\n",
      " ['dog' 3.0 3 'yes']\n",
      " ['snake' 0.5 2 'no']\n",
      " ['monkey' nan 3 'yes']\n",
      " ['bird' 1.7 2 'no']\n",
      " ['elephant' 7.0 3 'no']\n",
      " ['lion' 4.5 1 'no']\n",
      " ['rabbit' nan 1 'yes']\n",
      " ['fox' 2.0 2 'no']\n",
      " ['wolf' 5.0 1 'no']]\n"
     ]
    }
   ],
   "source": [
    "# Index are the lines\n",
    "print(df2.index)\n",
    "\n",
    "# Printing the columns\n",
    "print(df2.columns)\n",
    "\n",
    "# The values of each os these columns and indexes\n",
    "print(df2.values)"
   ]
  },
  {
   "cell_type": "code",
   "execution_count": 35,
   "id": "fb5af311",
   "metadata": {
    "scrolled": true
   },
   "outputs": [
    {
     "data": {
      "text/html": [
       "<div>\n",
       "<style scoped>\n",
       "    .dataframe tbody tr th:only-of-type {\n",
       "        vertical-align: middle;\n",
       "    }\n",
       "\n",
       "    .dataframe tbody tr th {\n",
       "        vertical-align: top;\n",
       "    }\n",
       "\n",
       "    .dataframe thead th {\n",
       "        text-align: right;\n",
       "    }\n",
       "</style>\n",
       "<table border=\"1\" class=\"dataframe\">\n",
       "  <thead>\n",
       "    <tr style=\"text-align: right;\">\n",
       "      <th></th>\n",
       "      <th>Age</th>\n",
       "      <th>Visits</th>\n",
       "    </tr>\n",
       "  </thead>\n",
       "  <tbody>\n",
       "    <tr>\n",
       "      <th>count</th>\n",
       "      <td>3.000000</td>\n",
       "      <td>3.0</td>\n",
       "    </tr>\n",
       "    <tr>\n",
       "      <th>mean</th>\n",
       "      <td>2.000000</td>\n",
       "      <td>2.0</td>\n",
       "    </tr>\n",
       "    <tr>\n",
       "      <th>std</th>\n",
       "      <td>1.322876</td>\n",
       "      <td>1.0</td>\n",
       "    </tr>\n",
       "    <tr>\n",
       "      <th>min</th>\n",
       "      <td>0.500000</td>\n",
       "      <td>1.0</td>\n",
       "    </tr>\n",
       "    <tr>\n",
       "      <th>25%</th>\n",
       "      <td>1.500000</td>\n",
       "      <td>1.5</td>\n",
       "    </tr>\n",
       "    <tr>\n",
       "      <th>50%</th>\n",
       "      <td>2.500000</td>\n",
       "      <td>2.0</td>\n",
       "    </tr>\n",
       "    <tr>\n",
       "      <th>75%</th>\n",
       "      <td>2.750000</td>\n",
       "      <td>2.5</td>\n",
       "    </tr>\n",
       "    <tr>\n",
       "      <th>max</th>\n",
       "      <td>3.000000</td>\n",
       "      <td>3.0</td>\n",
       "    </tr>\n",
       "  </tbody>\n",
       "</table>\n",
       "</div>"
      ],
      "text/plain": [
       "            Age  Visits\n",
       "count  3.000000     3.0\n",
       "mean   2.000000     2.0\n",
       "std    1.322876     1.0\n",
       "min    0.500000     1.0\n",
       "25%    1.500000     1.5\n",
       "50%    2.500000     2.0\n",
       "75%    2.750000     2.5\n",
       "max    3.000000     3.0"
      ]
     },
     "execution_count": 35,
     "metadata": {},
     "output_type": "execute_result"
    }
   ],
   "source": [
    "df3.describe()"
   ]
  },
  {
   "cell_type": "code",
   "execution_count": 36,
   "id": "52d4d97b",
   "metadata": {},
   "outputs": [
    {
     "data": {
      "text/html": [
       "<div>\n",
       "<style scoped>\n",
       "    .dataframe tbody tr th:only-of-type {\n",
       "        vertical-align: middle;\n",
       "    }\n",
       "\n",
       "    .dataframe tbody tr th {\n",
       "        vertical-align: top;\n",
       "    }\n",
       "\n",
       "    .dataframe thead th {\n",
       "        text-align: right;\n",
       "    }\n",
       "</style>\n",
       "<table border=\"1\" class=\"dataframe\">\n",
       "  <thead>\n",
       "    <tr style=\"text-align: right;\">\n",
       "      <th></th>\n",
       "      <th>a</th>\n",
       "      <th>b</th>\n",
       "      <th>c</th>\n",
       "      <th>d</th>\n",
       "      <th>e</th>\n",
       "      <th>f</th>\n",
       "      <th>g</th>\n",
       "      <th>h</th>\n",
       "      <th>i</th>\n",
       "      <th>j</th>\n",
       "    </tr>\n",
       "  </thead>\n",
       "  <tbody>\n",
       "    <tr>\n",
       "      <th>Animal</th>\n",
       "      <td>cat</td>\n",
       "      <td>dog</td>\n",
       "      <td>snake</td>\n",
       "      <td>monkey</td>\n",
       "      <td>bird</td>\n",
       "      <td>elephant</td>\n",
       "      <td>lion</td>\n",
       "      <td>rabbit</td>\n",
       "      <td>fox</td>\n",
       "      <td>wolf</td>\n",
       "    </tr>\n",
       "    <tr>\n",
       "      <th>Age</th>\n",
       "      <td>2.5</td>\n",
       "      <td>3.0</td>\n",
       "      <td>0.5</td>\n",
       "      <td>NaN</td>\n",
       "      <td>1.7</td>\n",
       "      <td>7.0</td>\n",
       "      <td>4.5</td>\n",
       "      <td>NaN</td>\n",
       "      <td>2.0</td>\n",
       "      <td>5.0</td>\n",
       "    </tr>\n",
       "    <tr>\n",
       "      <th>Visits</th>\n",
       "      <td>1</td>\n",
       "      <td>3</td>\n",
       "      <td>2</td>\n",
       "      <td>3</td>\n",
       "      <td>2</td>\n",
       "      <td>3</td>\n",
       "      <td>1</td>\n",
       "      <td>1</td>\n",
       "      <td>2</td>\n",
       "      <td>1</td>\n",
       "    </tr>\n",
       "    <tr>\n",
       "      <th>Priority</th>\n",
       "      <td>yes</td>\n",
       "      <td>yes</td>\n",
       "      <td>no</td>\n",
       "      <td>yes</td>\n",
       "      <td>no</td>\n",
       "      <td>no</td>\n",
       "      <td>no</td>\n",
       "      <td>yes</td>\n",
       "      <td>no</td>\n",
       "      <td>no</td>\n",
       "    </tr>\n",
       "  </tbody>\n",
       "</table>\n",
       "</div>"
      ],
      "text/plain": [
       "            a    b      c       d     e         f     g       h    i     j\n",
       "Animal    cat  dog  snake  monkey  bird  elephant  lion  rabbit  fox  wolf\n",
       "Age       2.5  3.0    0.5     NaN   1.7       7.0   4.5     NaN  2.0   5.0\n",
       "Visits      1    3      2       3     2         3     1       1    2     1\n",
       "Priority  yes  yes     no     yes    no        no    no     yes   no    no"
      ]
     },
     "execution_count": 36,
     "metadata": {},
     "output_type": "execute_result"
    }
   ],
   "source": [
    "df3 = df2.T\n",
    "df3"
   ]
  },
  {
   "cell_type": "code",
   "execution_count": 41,
   "id": "f2a4077f",
   "metadata": {
    "scrolled": true
   },
   "outputs": [
    {
     "data": {
      "text/html": [
       "<div>\n",
       "<style scoped>\n",
       "    .dataframe tbody tr th:only-of-type {\n",
       "        vertical-align: middle;\n",
       "    }\n",
       "\n",
       "    .dataframe tbody tr th {\n",
       "        vertical-align: top;\n",
       "    }\n",
       "\n",
       "    .dataframe thead th {\n",
       "        text-align: right;\n",
       "    }\n",
       "</style>\n",
       "<table border=\"1\" class=\"dataframe\">\n",
       "  <thead>\n",
       "    <tr style=\"text-align: right;\">\n",
       "      <th></th>\n",
       "      <th>Animal</th>\n",
       "      <th>Age</th>\n",
       "      <th>Visits</th>\n",
       "      <th>Priority</th>\n",
       "    </tr>\n",
       "  </thead>\n",
       "  <tbody>\n",
       "    <tr>\n",
       "      <th>c</th>\n",
       "      <td>snake</td>\n",
       "      <td>0.5</td>\n",
       "      <td>2</td>\n",
       "      <td>no</td>\n",
       "    </tr>\n",
       "    <tr>\n",
       "      <th>e</th>\n",
       "      <td>bird</td>\n",
       "      <td>1.7</td>\n",
       "      <td>2</td>\n",
       "      <td>no</td>\n",
       "    </tr>\n",
       "    <tr>\n",
       "      <th>i</th>\n",
       "      <td>fox</td>\n",
       "      <td>2.0</td>\n",
       "      <td>2</td>\n",
       "      <td>no</td>\n",
       "    </tr>\n",
       "    <tr>\n",
       "      <th>a</th>\n",
       "      <td>cat</td>\n",
       "      <td>2.5</td>\n",
       "      <td>1</td>\n",
       "      <td>yes</td>\n",
       "    </tr>\n",
       "    <tr>\n",
       "      <th>b</th>\n",
       "      <td>dog</td>\n",
       "      <td>3.0</td>\n",
       "      <td>3</td>\n",
       "      <td>yes</td>\n",
       "    </tr>\n",
       "    <tr>\n",
       "      <th>g</th>\n",
       "      <td>lion</td>\n",
       "      <td>4.5</td>\n",
       "      <td>1</td>\n",
       "      <td>no</td>\n",
       "    </tr>\n",
       "    <tr>\n",
       "      <th>j</th>\n",
       "      <td>wolf</td>\n",
       "      <td>5.0</td>\n",
       "      <td>1</td>\n",
       "      <td>no</td>\n",
       "    </tr>\n",
       "    <tr>\n",
       "      <th>f</th>\n",
       "      <td>elephant</td>\n",
       "      <td>7.0</td>\n",
       "      <td>3</td>\n",
       "      <td>no</td>\n",
       "    </tr>\n",
       "    <tr>\n",
       "      <th>d</th>\n",
       "      <td>monkey</td>\n",
       "      <td>NaN</td>\n",
       "      <td>3</td>\n",
       "      <td>yes</td>\n",
       "    </tr>\n",
       "    <tr>\n",
       "      <th>h</th>\n",
       "      <td>rabbit</td>\n",
       "      <td>NaN</td>\n",
       "      <td>1</td>\n",
       "      <td>yes</td>\n",
       "    </tr>\n",
       "  </tbody>\n",
       "</table>\n",
       "</div>"
      ],
      "text/plain": [
       "     Animal  Age  Visits Priority\n",
       "c     snake  0.5       2       no\n",
       "e      bird  1.7       2       no\n",
       "i       fox  2.0       2       no\n",
       "a       cat  2.5       1      yes\n",
       "b       dog  3.0       3      yes\n",
       "g      lion  4.5       1       no\n",
       "j      wolf  5.0       1       no\n",
       "f  elephant  7.0       3       no\n",
       "d    monkey  NaN       3      yes\n",
       "h    rabbit  NaN       1      yes"
      ]
     },
     "execution_count": 41,
     "metadata": {},
     "output_type": "execute_result"
    }
   ],
   "source": [
    "df = df2.sort_values(by=['Age'], ascending=True)\n",
    "df"
   ]
  },
  {
   "cell_type": "code",
   "execution_count": 42,
   "id": "311e4e52",
   "metadata": {},
   "outputs": [
    {
     "data": {
      "text/html": [
       "<div>\n",
       "<style scoped>\n",
       "    .dataframe tbody tr th:only-of-type {\n",
       "        vertical-align: middle;\n",
       "    }\n",
       "\n",
       "    .dataframe tbody tr th {\n",
       "        vertical-align: top;\n",
       "    }\n",
       "\n",
       "    .dataframe thead th {\n",
       "        text-align: right;\n",
       "    }\n",
       "</style>\n",
       "<table border=\"1\" class=\"dataframe\">\n",
       "  <thead>\n",
       "    <tr style=\"text-align: right;\">\n",
       "      <th></th>\n",
       "      <th>Animal</th>\n",
       "      <th>Age</th>\n",
       "      <th>Visits</th>\n",
       "      <th>Priority</th>\n",
       "    </tr>\n",
       "  </thead>\n",
       "  <tbody>\n",
       "    <tr>\n",
       "      <th>c</th>\n",
       "      <td>snake</td>\n",
       "      <td>0.5</td>\n",
       "      <td>2</td>\n",
       "      <td>no</td>\n",
       "    </tr>\n",
       "    <tr>\n",
       "      <th>d</th>\n",
       "      <td>monkey</td>\n",
       "      <td>NaN</td>\n",
       "      <td>3</td>\n",
       "      <td>yes</td>\n",
       "    </tr>\n",
       "    <tr>\n",
       "      <th>e</th>\n",
       "      <td>bird</td>\n",
       "      <td>1.7</td>\n",
       "      <td>2</td>\n",
       "      <td>no</td>\n",
       "    </tr>\n",
       "    <tr>\n",
       "      <th>f</th>\n",
       "      <td>elephant</td>\n",
       "      <td>7.0</td>\n",
       "      <td>3</td>\n",
       "      <td>no</td>\n",
       "    </tr>\n",
       "  </tbody>\n",
       "</table>\n",
       "</div>"
      ],
      "text/plain": [
       "     Animal  Age  Visits Priority\n",
       "c     snake  0.5       2       no\n",
       "d    monkey  NaN       3      yes\n",
       "e      bird  1.7       2       no\n",
       "f  elephant  7.0       3       no"
      ]
     },
     "metadata": {},
     "output_type": "display_data"
    }
   ],
   "source": [
    "display(df2.iloc[2:-4])"
   ]
  },
  {
   "cell_type": "code",
   "execution_count": 43,
   "id": "0bda073b",
   "metadata": {},
   "outputs": [
    {
     "data": {
      "text/html": [
       "<div>\n",
       "<style scoped>\n",
       "    .dataframe tbody tr th:only-of-type {\n",
       "        vertical-align: middle;\n",
       "    }\n",
       "\n",
       "    .dataframe tbody tr th {\n",
       "        vertical-align: top;\n",
       "    }\n",
       "\n",
       "    .dataframe thead th {\n",
       "        text-align: right;\n",
       "    }\n",
       "</style>\n",
       "<table border=\"1\" class=\"dataframe\">\n",
       "  <thead>\n",
       "    <tr style=\"text-align: right;\">\n",
       "      <th></th>\n",
       "      <th>Age</th>\n",
       "      <th>Visits</th>\n",
       "    </tr>\n",
       "  </thead>\n",
       "  <tbody>\n",
       "    <tr>\n",
       "      <th>f</th>\n",
       "      <td>7.0</td>\n",
       "      <td>3</td>\n",
       "    </tr>\n",
       "    <tr>\n",
       "      <th>j</th>\n",
       "      <td>5.0</td>\n",
       "      <td>1</td>\n",
       "    </tr>\n",
       "    <tr>\n",
       "      <th>g</th>\n",
       "      <td>4.5</td>\n",
       "      <td>1</td>\n",
       "    </tr>\n",
       "    <tr>\n",
       "      <th>b</th>\n",
       "      <td>3.0</td>\n",
       "      <td>3</td>\n",
       "    </tr>\n",
       "    <tr>\n",
       "      <th>a</th>\n",
       "      <td>2.5</td>\n",
       "      <td>1</td>\n",
       "    </tr>\n",
       "    <tr>\n",
       "      <th>i</th>\n",
       "      <td>2.0</td>\n",
       "      <td>2</td>\n",
       "    </tr>\n",
       "    <tr>\n",
       "      <th>e</th>\n",
       "      <td>1.7</td>\n",
       "      <td>2</td>\n",
       "    </tr>\n",
       "    <tr>\n",
       "      <th>c</th>\n",
       "      <td>0.5</td>\n",
       "      <td>2</td>\n",
       "    </tr>\n",
       "    <tr>\n",
       "      <th>d</th>\n",
       "      <td>NaN</td>\n",
       "      <td>3</td>\n",
       "    </tr>\n",
       "    <tr>\n",
       "      <th>h</th>\n",
       "      <td>NaN</td>\n",
       "      <td>1</td>\n",
       "    </tr>\n",
       "  </tbody>\n",
       "</table>\n",
       "</div>"
      ],
      "text/plain": [
       "   Age  Visits\n",
       "f  7.0       3\n",
       "j  5.0       1\n",
       "g  4.5       1\n",
       "b  3.0       3\n",
       "a  2.5       1\n",
       "i  2.0       2\n",
       "e  1.7       2\n",
       "c  0.5       2\n",
       "d  NaN       3\n",
       "h  NaN       1"
      ]
     },
     "execution_count": 43,
     "metadata": {},
     "output_type": "execute_result"
    }
   ],
   "source": [
    "df1 = df2[['Age', 'Visits']]\n",
    "df2 = df1.sort_values(by=['Age'], ascending=False)\n",
    "df2"
   ]
  },
  {
   "cell_type": "code",
   "execution_count": 44,
   "id": "cdefb6f0",
   "metadata": {},
   "outputs": [
    {
     "data": {
      "text/html": [
       "<div>\n",
       "<style scoped>\n",
       "    .dataframe tbody tr th:only-of-type {\n",
       "        vertical-align: middle;\n",
       "    }\n",
       "\n",
       "    .dataframe tbody tr th {\n",
       "        vertical-align: top;\n",
       "    }\n",
       "\n",
       "    .dataframe thead th {\n",
       "        text-align: right;\n",
       "    }\n",
       "</style>\n",
       "<table border=\"1\" class=\"dataframe\">\n",
       "  <thead>\n",
       "    <tr style=\"text-align: right;\">\n",
       "      <th></th>\n",
       "      <th>Age</th>\n",
       "      <th>Visits</th>\n",
       "    </tr>\n",
       "  </thead>\n",
       "  <tbody>\n",
       "    <tr>\n",
       "      <th>f</th>\n",
       "      <td>7.0</td>\n",
       "      <td>3</td>\n",
       "    </tr>\n",
       "    <tr>\n",
       "      <th>j</th>\n",
       "      <td>5.0</td>\n",
       "      <td>1</td>\n",
       "    </tr>\n",
       "    <tr>\n",
       "      <th>g</th>\n",
       "      <td>4.5</td>\n",
       "      <td>1</td>\n",
       "    </tr>\n",
       "    <tr>\n",
       "      <th>b</th>\n",
       "      <td>3.0</td>\n",
       "      <td>3</td>\n",
       "    </tr>\n",
       "    <tr>\n",
       "      <th>a</th>\n",
       "      <td>2.5</td>\n",
       "      <td>1</td>\n",
       "    </tr>\n",
       "    <tr>\n",
       "      <th>i</th>\n",
       "      <td>2.0</td>\n",
       "      <td>2</td>\n",
       "    </tr>\n",
       "    <tr>\n",
       "      <th>e</th>\n",
       "      <td>1.7</td>\n",
       "      <td>2</td>\n",
       "    </tr>\n",
       "    <tr>\n",
       "      <th>c</th>\n",
       "      <td>0.5</td>\n",
       "      <td>2</td>\n",
       "    </tr>\n",
       "    <tr>\n",
       "      <th>d</th>\n",
       "      <td>NaN</td>\n",
       "      <td>3</td>\n",
       "    </tr>\n",
       "    <tr>\n",
       "      <th>h</th>\n",
       "      <td>NaN</td>\n",
       "      <td>1</td>\n",
       "    </tr>\n",
       "  </tbody>\n",
       "</table>\n",
       "</div>"
      ],
      "text/plain": [
       "   Age  Visits\n",
       "f  7.0       3\n",
       "j  5.0       1\n",
       "g  4.5       1\n",
       "b  3.0       3\n",
       "a  2.5       1\n",
       "i  2.0       2\n",
       "e  1.7       2\n",
       "c  0.5       2\n",
       "d  NaN       3\n",
       "h  NaN       1"
      ]
     },
     "execution_count": 44,
     "metadata": {},
     "output_type": "execute_result"
    }
   ],
   "source": [
    "df10 = df2.copy()\n",
    "df10"
   ]
  },
  {
   "cell_type": "code",
   "execution_count": 45,
   "id": "03ac3dc1",
   "metadata": {},
   "outputs": [
    {
     "data": {
      "text/html": [
       "<div>\n",
       "<style scoped>\n",
       "    .dataframe tbody tr th:only-of-type {\n",
       "        vertical-align: middle;\n",
       "    }\n",
       "\n",
       "    .dataframe tbody tr th {\n",
       "        vertical-align: top;\n",
       "    }\n",
       "\n",
       "    .dataframe thead th {\n",
       "        text-align: right;\n",
       "    }\n",
       "</style>\n",
       "<table border=\"1\" class=\"dataframe\">\n",
       "  <thead>\n",
       "    <tr style=\"text-align: right;\">\n",
       "      <th></th>\n",
       "      <th>Age</th>\n",
       "      <th>Visits</th>\n",
       "    </tr>\n",
       "  </thead>\n",
       "  <tbody>\n",
       "    <tr>\n",
       "      <th>f</th>\n",
       "      <td>7.0</td>\n",
       "      <td>3</td>\n",
       "    </tr>\n",
       "    <tr>\n",
       "      <th>j</th>\n",
       "      <td>5.0</td>\n",
       "      <td>1</td>\n",
       "    </tr>\n",
       "    <tr>\n",
       "      <th>g</th>\n",
       "      <td>4.5</td>\n",
       "      <td>1</td>\n",
       "    </tr>\n",
       "    <tr>\n",
       "      <th>b</th>\n",
       "      <td>3.0</td>\n",
       "      <td>3</td>\n",
       "    </tr>\n",
       "    <tr>\n",
       "      <th>a</th>\n",
       "      <td>2.5</td>\n",
       "      <td>1</td>\n",
       "    </tr>\n",
       "    <tr>\n",
       "      <th>i</th>\n",
       "      <td>2.0</td>\n",
       "      <td>2</td>\n",
       "    </tr>\n",
       "    <tr>\n",
       "      <th>e</th>\n",
       "      <td>0.0</td>\n",
       "      <td>2</td>\n",
       "    </tr>\n",
       "    <tr>\n",
       "      <th>c</th>\n",
       "      <td>0.5</td>\n",
       "      <td>2</td>\n",
       "    </tr>\n",
       "    <tr>\n",
       "      <th>d</th>\n",
       "      <td>NaN</td>\n",
       "      <td>3</td>\n",
       "    </tr>\n",
       "    <tr>\n",
       "      <th>h</th>\n",
       "      <td>NaN</td>\n",
       "      <td>1</td>\n",
       "    </tr>\n",
       "  </tbody>\n",
       "</table>\n",
       "</div>"
      ],
      "text/plain": [
       "   Age  Visits\n",
       "f  7.0       3\n",
       "j  5.0       1\n",
       "g  4.5       1\n",
       "b  3.0       3\n",
       "a  2.5       1\n",
       "i  2.0       2\n",
       "e  0.0       2\n",
       "c  0.5       2\n",
       "d  NaN       3\n",
       "h  NaN       1"
      ]
     },
     "execution_count": 45,
     "metadata": {},
     "output_type": "execute_result"
    }
   ],
   "source": [
    "df10.loc['e', 'Age'] = 0\n",
    "df10"
   ]
  },
  {
   "cell_type": "code",
   "execution_count": 59,
   "id": "f81d7ece",
   "metadata": {},
   "outputs": [
    {
     "name": "stdout",
     "output_type": "stream",
     "text": [
      "     Age  Visits\n",
      "f  False   False\n",
      "j  False   False\n",
      "g  False   False\n",
      "b  False   False\n",
      "a  False   False\n",
      "i  False   False\n",
      "e  False   False\n",
      "c  False   False\n",
      "d   True   False\n",
      "h   True   False\n"
     ]
    }
   ],
   "source": [
    "print(df10.isnull())"
   ]
  },
  {
   "cell_type": "code",
   "execution_count": 48,
   "id": "cb24eda3",
   "metadata": {},
   "outputs": [
    {
     "name": "stdout",
     "output_type": "stream",
     "text": [
      "Age       3.0625\n",
      "Visits    1.9000\n",
      "dtype: float64\n"
     ]
    }
   ],
   "source": [
    "print(df10.mean(axis=0, numeric_only=True, skipna=True))"
   ]
  },
  {
   "cell_type": "code",
   "execution_count": 52,
   "id": "4809f419",
   "metadata": {},
   "outputs": [
    {
     "name": "stdout",
     "output_type": "stream",
     "text": [
      "19\n",
      "3.0625\n"
     ]
    }
   ],
   "source": [
    "print(df10['Visits'].sum(axis=0, numeric_only=True, skipna=True))\n",
    "print(df10['Age'].mean(axis=0, numeric_only=True, skipna=True))"
   ]
  },
  {
   "cell_type": "code",
   "execution_count": null,
   "id": "8e3b3753",
   "metadata": {},
   "outputs": [],
   "source": []
  }
 ],
 "metadata": {
  "kernelspec": {
   "display_name": "Python 3 (ipykernel)",
   "language": "python",
   "name": "python3"
  },
  "language_info": {
   "codemirror_mode": {
    "name": "ipython",
    "version": 3
   },
   "file_extension": ".py",
   "mimetype": "text/x-python",
   "name": "python",
   "nbconvert_exporter": "python",
   "pygments_lexer": "ipython3",
   "version": "3.9.13"
  }
 },
 "nbformat": 4,
 "nbformat_minor": 5
}
